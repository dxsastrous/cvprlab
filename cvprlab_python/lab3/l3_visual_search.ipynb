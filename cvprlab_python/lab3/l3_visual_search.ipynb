{
 "cells": [
  {
   "cell_type": "code",
   "execution_count": 29,
   "metadata": {},
   "outputs": [
    {
     "ename": "ModuleNotFoundError",
     "evalue": "No module named 'extract_random'",
     "output_type": "error",
     "traceback": [
      "\u001b[0;31m---------------------------------------------------------------------------\u001b[0m",
      "\u001b[0;31mModuleNotFoundError\u001b[0m                       Traceback (most recent call last)",
      "Cell \u001b[0;32mIn[29], line 5\u001b[0m\n\u001b[1;32m      3\u001b[0m \u001b[38;5;28;01mimport\u001b[39;00m \u001b[38;5;21;01mos\u001b[39;00m\n\u001b[1;32m      4\u001b[0m \u001b[38;5;28;01mimport\u001b[39;00m \u001b[38;5;21;01mscipy\u001b[39;00m\u001b[38;5;21;01m.\u001b[39;00m\u001b[38;5;21;01mio\u001b[39;00m \u001b[38;5;28;01mas\u001b[39;00m \u001b[38;5;21;01msio\u001b[39;00m\n\u001b[0;32m----> 5\u001b[0m \u001b[38;5;28;01mfrom\u001b[39;00m \u001b[38;5;21;01mextract_random\u001b[39;00m \u001b[38;5;28;01mimport\u001b[39;00m extract_random\n",
      "\u001b[0;31mModuleNotFoundError\u001b[0m: No module named 'extract_random'"
     ]
    }
   ],
   "source": [
    "import cv2\n",
    "import numpy as np\n",
    "import os\n",
    "import scipy.io as sio\n",
    "from cvprlab_python.lab3.extract_random import extract_random"
   ]
  },
  {
   "cell_type": "code",
   "execution_count": 19,
   "metadata": {},
   "outputs": [],
   "source": [
    "def extract_color_descriptor(img):\n",
    "    # Compute the average red, green, and blue values as a basic color descriptor\n",
    "    R = np.mean(img[:, :, 2])  # Note: OpenCV uses BGR format\n",
    "    G = np.mean(img[:, :, 1])\n",
    "    B = np.mean(img[:, :, 0])\n",
    "    return np.array([R, G, B])"
   ]
  },
  {
   "cell_type": "code",
   "execution_count": 23,
   "metadata": {},
   "outputs": [],
   "source": [
    "DATASET_FOLDER = \"cvprlab_python/MSRC_ObjCategImageDatabase_v2\"\n",
    "OUT_FOLDER = \"cvprlab_python/lab3/descriptors\"\n",
    "OUT_SUBFOLDER = 'globalRGBhisto'\n",
    "\n",
    "if not os.path.exists(OUT_FOLDER):\n",
    "    os.makedirs(OUT_FOLDER)"
   ]
  },
  {
   "cell_type": "code",
   "execution_count": 24,
   "metadata": {},
   "outputs": [],
   "source": [
    "# Extract Image Descriptors from the Dataset\n",
    "os.makedirs(os.path.join(OUT_FOLDER, OUT_SUBFOLDER), exist_ok=True)"
   ]
  },
  {
   "cell_type": "code",
   "execution_count": 26,
   "metadata": {},
   "outputs": [
    {
     "name": "stdout",
     "output_type": "stream",
     "text": [
      "Processing file 17_15_s.bmp\n"
     ]
    },
    {
     "ename": "NameError",
     "evalue": "name 'extract_random' is not defined",
     "output_type": "error",
     "traceback": [
      "\u001b[0;31m---------------------------------------------------------------------------\u001b[0m",
      "\u001b[0;31mNameError\u001b[0m                                 Traceback (most recent call last)",
      "Cell \u001b[0;32mIn[26], line 9\u001b[0m\n\u001b[1;32m      6\u001b[0m fout \u001b[38;5;241m=\u001b[39m os\u001b[38;5;241m.\u001b[39mpath\u001b[38;5;241m.\u001b[39mjoin(OUT_FOLDER, OUT_SUBFOLDER, filename\u001b[38;5;241m.\u001b[39mreplace(\u001b[38;5;124m'\u001b[39m\u001b[38;5;124m.bmp\u001b[39m\u001b[38;5;124m'\u001b[39m, \u001b[38;5;124m'\u001b[39m\u001b[38;5;124m.mat\u001b[39m\u001b[38;5;124m'\u001b[39m))\n\u001b[1;32m      8\u001b[0m \u001b[38;5;66;03m# Call extractRandom (or another feature extraction function) to get the descriptor\u001b[39;00m\n\u001b[0;32m----> 9\u001b[0m F \u001b[38;5;241m=\u001b[39m \u001b[43mextract_random\u001b[49m(img)\n\u001b[1;32m     11\u001b[0m \u001b[38;5;66;03m# Save the descriptor to a .mat file\u001b[39;00m\n\u001b[1;32m     12\u001b[0m sio\u001b[38;5;241m.\u001b[39msavemat(fout, {\u001b[38;5;124m'\u001b[39m\u001b[38;5;124mF\u001b[39m\u001b[38;5;124m'\u001b[39m: F})\n",
      "\u001b[0;31mNameError\u001b[0m: name 'extract_random' is not defined"
     ]
    }
   ],
   "source": [
    "for filename in os.listdir(os.path.join(DATASET_FOLDER, 'Images')):\n",
    "    if filename.endswith(\".bmp\"):\n",
    "        print(f\"Processing file {filename}\")\n",
    "        img_path = os.path.join(DATASET_FOLDER, 'Images', filename)\n",
    "        img = cv2.imread(img_path).astype(np.float64) / 255.0  # Normalize the image\n",
    "        fout = os.path.join(OUT_FOLDER, OUT_SUBFOLDER, filename.replace('.bmp', '.mat'))\n",
    "        \n",
    "        # Call extractRandom (or another feature extraction function) to get the descriptor\n",
    "        F = extract_random(img)\n",
    "        \n",
    "        # Save the descriptor to a .mat file\n",
    "        sio.savemat(fout, {'F': F})\n"
   ]
  },
  {
   "cell_type": "code",
   "execution_count": null,
   "metadata": {},
   "outputs": [],
   "source": []
  }
 ],
 "metadata": {
  "kernelspec": {
   "display_name": "cvprlab-python-ZXApa2ai-py3.10",
   "language": "python",
   "name": "python3"
  },
  "language_info": {
   "codemirror_mode": {
    "name": "ipython",
    "version": 3
   },
   "file_extension": ".py",
   "mimetype": "text/x-python",
   "name": "python",
   "nbconvert_exporter": "python",
   "pygments_lexer": "ipython3",
   "version": "3.10.7"
  }
 },
 "nbformat": 4,
 "nbformat_minor": 2
}
