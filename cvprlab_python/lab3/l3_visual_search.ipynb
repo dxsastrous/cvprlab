{
 "cells": [
  {
   "cell_type": "code",
   "execution_count": 8,
   "metadata": {},
   "outputs": [],
   "source": [
    "import cv2\n",
    "import numpy as np\n",
    "import os\n",
    "import scipy.io as sio\n",
    "from extract_random import extract_random\n",
    "from cvpr_compare import cvpr_compare\n",
    "from random import randint\n",
    "from matplotlib import pyplot as plt\n"
   ]
  },
  {
   "cell_type": "code",
   "execution_count": 9,
   "metadata": {},
   "outputs": [],
   "source": [
    "def extract_color_descriptor(img):\n",
    "    # Compute the average red, green, and blue values as a basic color descriptor\n",
    "    R = np.mean(img[:, :, 2])  # Note: OpenCV uses BGR format\n",
    "    G = np.mean(img[:, :, 1])\n",
    "    B = np.mean(img[:, :, 0])\n",
    "    return np.array([R, G, B])"
   ]
  },
  {
   "cell_type": "code",
   "execution_count": 10,
   "metadata": {},
   "outputs": [],
   "source": [
    "DATASET_FOLDER = \"MSRC_ObjCategImageDatabase_v2\"\n",
    "OUT_FOLDER = \"descriptors\"\n",
    "OUT_SUBFOLDER = 'globalRGBhisto'\n",
    "\n",
    "if not os.path.exists(OUT_FOLDER):\n",
    "    os.makedirs(OUT_FOLDER)\n",
    "\n",
    "# Extract Image Descriptors from the Dataset\n",
    "os.makedirs(os.path.join(OUT_FOLDER, OUT_SUBFOLDER), exist_ok=True)"
   ]
  },
  {
   "cell_type": "code",
   "execution_count": 11,
   "metadata": {},
   "outputs": [],
   "source": [
    "for filename in os.listdir(os.path.join(DATASET_FOLDER, 'Images')):\n",
    "    if filename.endswith(\".bmp\"):\n",
    "        # print(f\"Processing file {filename}\")\n",
    "        img_path = os.path.join(DATASET_FOLDER, 'Images', filename)\n",
    "        img = cv2.imread(img_path).astype(np.float64) / 255.0  # Normalize the image\n",
    "        fout = os.path.join(OUT_FOLDER, OUT_SUBFOLDER, filename).replace('.bmp', '.mat')\n",
    "        # Call extractRandom (or another feature extraction function) to get the descriptor\n",
    "        F = extract_random(img)        \n",
    "        # Save the descriptor to a .mat file\n",
    "        sio.savemat(fout, {'F': F})"
   ]
  },
  {
   "cell_type": "code",
   "execution_count": 12,
   "metadata": {},
   "outputs": [],
   "source": [
    "DESCRIPTOR_FOLDER = 'descriptors'\n",
    "DESCRIPTOR_SUBFOLDER = 'globalRGBhisto'\n",
    "\n",
    "# Load all descriptors\n",
    "ALLFEAT = []\n",
    "ALLFILES = []\n",
    "for filename in os.listdir(os.path.join(DESCRIPTOR_FOLDER, DESCRIPTOR_SUBFOLDER)):\n",
    "    if filename.endswith('.mat'):\n",
    "        descriptor_path = os.path.join(DESCRIPTOR_FOLDER, DESCRIPTOR_SUBFOLDER, filename)\n",
    "        img_path = os.path.join(DATASET_FOLDER, 'Images', filename.replace('.mat', '.bmp'))\n",
    "        descriptor_data = sio.loadmat(descriptor_path)\n",
    "        ALLFILES.append(img_path)\n",
    "        ALLFEAT.append(descriptor_data['F'][0])  # Assuming F is a 1D array\n",
    "# Convert ALLFEAT to a numpy array\n",
    "ALLFEAT = np.array(ALLFEAT)\n",
    "\n",
    "# Pick a random image as the query\n",
    "NIMG = ALLFEAT.shape[0]\n",
    "queryimg = randint(0, NIMG - 1)\n",
    "\n",
    "# Compute the distance between the query and all other descriptors\n",
    "dst = []\n",
    "query = ALLFEAT[queryimg]\n",
    "for i in range(NIMG):\n",
    "    candidate = ALLFEAT[i]\n",
    "    distance = cvpr_compare(query, candidate)\n",
    "    dst.append((distance, i))\n",
    "\n",
    "# Sort the distances\n",
    "dst.sort(key=lambda x: x[0])"
   ]
  },
  {
   "cell_type": "code",
   "execution_count": 17,
   "metadata": {},
   "outputs": [],
   "source": [
    "# Show the top 15 results\n",
    "SHOW = 15\n",
    "images = [] \n",
    "target_height = 100\n",
    "\n",
    "for i in range(min(SHOW, len(dst))):\n",
    "    img_path = ALLFILES[dst[i][1]]\n",
    "    img = cv2.imread(img_path)\n",
    "    \n",
    "    if img is None:\n",
    "        print(f\"Failed to load image at {img_path}\")\n",
    "        continue\n",
    "    \n",
    "    # Calculate the new width to maintain the aspect ratio\n",
    "    aspect_ratio = img.shape[1] / img.shape[0]\n",
    "    new_width = int(target_height * aspect_ratio)\n",
    "    \n",
    "    # Resize the image to the target height while maintaining the aspect ratio\n",
    "    img = cv2.resize(img, (new_width, target_height))\n",
    "    images.append(img)\n",
    "\n",
    "# Concatenate images horizontally\n",
    "if images:\n",
    "    concatenated_image = np.hstack(images)\n",
    "    cv2.imshow(\"Results\", concatenated_image)\n",
    "    cv2.waitKey(0)\n",
    "    cv2.destroyAllWindows()\n",
    "    cv2.waitKey(1)\n",
    "else:\n",
    "    print(\"No images to display.\")"
   ]
  },
  {
   "cell_type": "code",
   "execution_count": null,
   "metadata": {},
   "outputs": [],
   "source": []
  }
 ],
 "metadata": {
  "kernelspec": {
   "display_name": "Python 3 (ipykernel)",
   "language": "python",
   "name": "python3"
  },
  "language_info": {
   "codemirror_mode": {
    "name": "ipython",
    "version": 3
   },
   "file_extension": ".py",
   "mimetype": "text/x-python",
   "name": "python",
   "nbconvert_exporter": "python",
   "pygments_lexer": "ipython3",
   "version": "3.10.7"
  }
 },
 "nbformat": 4,
 "nbformat_minor": 4
}
