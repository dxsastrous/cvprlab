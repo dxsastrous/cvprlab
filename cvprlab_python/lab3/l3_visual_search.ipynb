{
 "cells": [
  {
   "cell_type": "code",
   "execution_count": 3,
   "metadata": {},
   "outputs": [],
   "source": [
    "import cv2\n",
    "import numpy as np\n",
    "import os"
   ]
  },
  {
   "cell_type": "code",
   "execution_count": 4,
   "metadata": {},
   "outputs": [],
   "source": [
    "def extract_color_descriptor(img):\n",
    "    # Compute the average red, green, and blue values as a basic color descriptor\n",
    "    R = np.mean(img[:, :, 2])  # Note: OpenCV uses BGR format\n",
    "    G = np.mean(img[:, :, 1])\n",
    "    B = np.mean(img[:, :, 0])\n",
    "    return np.array([R, G, B])"
   ]
  },
  {
   "cell_type": "code",
   "execution_count": null,
   "metadata": {},
   "outputs": [],
   "source": []
  }
 ],
 "metadata": {
  "kernelspec": {
   "display_name": "cvprlab-python-ZXApa2ai-py3.10",
   "language": "python",
   "name": "python3"
  },
  "language_info": {
   "codemirror_mode": {
    "name": "ipython",
    "version": 3
   },
   "file_extension": ".py",
   "mimetype": "text/x-python",
   "name": "python",
   "nbconvert_exporter": "python",
   "pygments_lexer": "ipython3",
   "version": "3.10.7"
  }
 },
 "nbformat": 4,
 "nbformat_minor": 2
}
