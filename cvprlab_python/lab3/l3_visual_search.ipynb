{
 "cells": [
  {
   "cell_type": "code",
   "execution_count": 40,
   "metadata": {},
   "outputs": [],
   "source": [
    "import cv2\n",
    "import numpy as np\n",
    "import os\n",
    "import scipy.io as sio\n",
    "from cvprlab_python.lab3.extract_random import extract_random\n"
   ]
  },
  {
   "cell_type": "code",
   "execution_count": 42,
   "metadata": {},
   "outputs": [],
   "source": [
    "def extract_color_descriptor(img):\n",
    "    # Compute the average red, green, and blue values as a basic color descriptor\n",
    "    R = np.mean(img[:, :, 2])  # Note: OpenCV uses BGR format\n",
    "    G = np.mean(img[:, :, 1])\n",
    "    B = np.mean(img[:, :, 0])\n",
    "    return np.array([R, G, B])"
   ]
  },
  {
   "cell_type": "code",
   "execution_count": 43,
   "metadata": {},
   "outputs": [],
   "source": [
    "DATASET_FOLDER = \"cvprlab_python/MSRC_ObjCategImageDatabase_v2\"\n",
    "OUT_FOLDER = \"cvprlab_python/lab3/descriptors\"\n",
    "OUT_SUBFOLDER = 'globalRGBhisto'\n",
    "\n",
    "if not os.path.exists(OUT_FOLDER):\n",
    "    os.makedirs(OUT_FOLDER)\n",
    "\n",
    "# Extract Image Descriptors from the Dataset\n",
    "os.makedirs(os.path.join(OUT_FOLDER, OUT_SUBFOLDER), exist_ok=True)"
   ]
  },
  {
   "cell_type": "code",
   "execution_count": 45,
   "metadata": {},
   "outputs": [
    {
     "name": "stdout",
     "output_type": "stream",
     "text": [
      "Processing file 17_15_s.bmp\n"
     ]
    },
    {
     "ename": "FileNotFoundError",
     "evalue": "[Errno 2] No such file or directory: 'cvprlab_python/lab3/descriptors/globalRGBhisto/17_15_s.npy'",
     "output_type": "error",
     "traceback": [
      "\u001b[0;31m---------------------------------------------------------------------------\u001b[0m",
      "\u001b[0;31mFileNotFoundError\u001b[0m                         Traceback (most recent call last)",
      "Cell \u001b[0;32mIn[45], line 12\u001b[0m\n\u001b[1;32m      9\u001b[0m F \u001b[38;5;241m=\u001b[39m extract_random(img)        \n\u001b[1;32m     11\u001b[0m \u001b[38;5;66;03m# Save the descriptor to a .npy file\u001b[39;00m\n\u001b[0;32m---> 12\u001b[0m \u001b[43mnp\u001b[49m\u001b[38;5;241;43m.\u001b[39;49m\u001b[43msave\u001b[49m\u001b[43m(\u001b[49m\u001b[43mfout\u001b[49m\u001b[43m,\u001b[49m\u001b[43m \u001b[49m\u001b[43mF\u001b[49m\u001b[43m)\u001b[49m\n",
      "File \u001b[0;32m~/Library/Caches/pypoetry/virtualenvs/cvprlab-python-ZXApa2ai-py3.10/lib/python3.10/site-packages/numpy/lib/_npyio_impl.py:583\u001b[0m, in \u001b[0;36msave\u001b[0;34m(file, arr, allow_pickle, fix_imports)\u001b[0m\n\u001b[1;32m    581\u001b[0m     \u001b[38;5;28;01mif\u001b[39;00m \u001b[38;5;129;01mnot\u001b[39;00m file\u001b[38;5;241m.\u001b[39mendswith(\u001b[38;5;124m'\u001b[39m\u001b[38;5;124m.npy\u001b[39m\u001b[38;5;124m'\u001b[39m):\n\u001b[1;32m    582\u001b[0m         file \u001b[38;5;241m=\u001b[39m file \u001b[38;5;241m+\u001b[39m \u001b[38;5;124m'\u001b[39m\u001b[38;5;124m.npy\u001b[39m\u001b[38;5;124m'\u001b[39m\n\u001b[0;32m--> 583\u001b[0m     file_ctx \u001b[38;5;241m=\u001b[39m \u001b[38;5;28;43mopen\u001b[39;49m\u001b[43m(\u001b[49m\u001b[43mfile\u001b[49m\u001b[43m,\u001b[49m\u001b[43m \u001b[49m\u001b[38;5;124;43m\"\u001b[39;49m\u001b[38;5;124;43mwb\u001b[39;49m\u001b[38;5;124;43m\"\u001b[39;49m\u001b[43m)\u001b[49m\n\u001b[1;32m    585\u001b[0m \u001b[38;5;28;01mwith\u001b[39;00m file_ctx \u001b[38;5;28;01mas\u001b[39;00m fid:\n\u001b[1;32m    586\u001b[0m     arr \u001b[38;5;241m=\u001b[39m np\u001b[38;5;241m.\u001b[39masanyarray(arr)\n",
      "\u001b[0;31mFileNotFoundError\u001b[0m: [Errno 2] No such file or directory: 'cvprlab_python/lab3/descriptors/globalRGBhisto/17_15_s.npy'"
     ]
    }
   ],
   "source": [
    "for filename in os.listdir(os.path.join(DATASET_FOLDER, 'Images')):\n",
    "    if filename.endswith(\".bmp\"):\n",
    "        print(f\"Processing file {filename}\")\n",
    "        img_path = os.path.join(DATASET_FOLDER, 'Images', filename)\n",
    "        img = cv2.imread(img_path).astype(np.float64) / 255.0  # Normalize the image\n",
    "        fout = os.path.join(OUT_FOLDER, OUT_SUBFOLDER, filename.replace('.bmp', '.npy'))\n",
    "        \n",
    "        # Call extractRandom (or another feature extraction function) to get the descriptor\n",
    "        F = extract_random(img)        \n",
    "\n",
    "        # Save the descriptor to a .npy file\n",
    "        np.save(fout, F)\n"
   ]
  },
  {
   "cell_type": "code",
   "execution_count": null,
   "metadata": {},
   "outputs": [],
   "source": []
  }
 ],
 "metadata": {
  "kernelspec": {
   "display_name": "cvprlab-python-ZXApa2ai-py3.10",
   "language": "python",
   "name": "python3"
  },
  "language_info": {
   "codemirror_mode": {
    "name": "ipython",
    "version": 3
   },
   "file_extension": ".py",
   "mimetype": "text/x-python",
   "name": "python",
   "nbconvert_exporter": "python",
   "pygments_lexer": "ipython3",
   "version": "3.10.7"
  }
 },
 "nbformat": 4,
 "nbformat_minor": 2
}
